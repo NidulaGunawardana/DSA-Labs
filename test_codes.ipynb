{
 "cells": [
  {
   "cell_type": "markdown",
   "metadata": {},
   "source": [
    "### Merge Sort implementaion"
   ]
  },
  {
   "cell_type": "code",
   "execution_count": 2,
   "metadata": {},
   "outputs": [
    {
     "name": "stdout",
     "output_type": "stream",
     "text": [
      "Given array is\n",
      "12 11 13 5 6 7 \n",
      "[12, 11, 13, 5, 6, 7]\n",
      "[11, 12, 13, 5, 6, 7]\n",
      "[11, 12, 13, 5, 6, 7]\n",
      "[11, 12, 13, 5, 6, 7]\n",
      "[11, 12, 13, 5, 6, 7]\n",
      "\n",
      "Sorted array is\n",
      "5 6 7 11 12 13 \n"
     ]
    }
   ],
   "source": [
    "# Merges two subarrays of array[].\n",
    "# First subarray is arr[left..mid]\n",
    "# Second subarray is arr[mid+1..right]\n",
    "def merge(array, left, mid, right):\n",
    "    subArrayOne = mid - left + 1\n",
    "    subArrayTwo = right - mid\n",
    "\n",
    "    # Create temp arrays\n",
    "    leftArray = [0] * subArrayOne\n",
    "    rightArray = [0] * subArrayTwo\n",
    "\n",
    "    # Copy data to temp arrays leftArray[] and rightArray[]\n",
    "    for i in range(subArrayOne):\n",
    "        leftArray[i] = array[left + i]\n",
    "    for j in range(subArrayTwo):\n",
    "        rightArray[j] = array[mid + 1 + j]\n",
    "\n",
    "    indexOfSubArrayOne = 0  # Initial index of first sub-array\n",
    "    indexOfSubArrayTwo = 0  # Initial index of second sub-array\n",
    "    indexOfMergedArray = left  # Initial index of merged array\n",
    "\n",
    "    # Merge the temp arrays back into array[left..right]\n",
    "    while indexOfSubArrayOne < subArrayOne and indexOfSubArrayTwo < subArrayTwo:\n",
    "        if leftArray[indexOfSubArrayOne] <= rightArray[indexOfSubArrayTwo]:\n",
    "            array[indexOfMergedArray] = leftArray[indexOfSubArrayOne]\n",
    "            indexOfSubArrayOne += 1\n",
    "        else:\n",
    "            array[indexOfMergedArray] = rightArray[indexOfSubArrayTwo]\n",
    "            indexOfSubArrayTwo += 1\n",
    "        indexOfMergedArray += 1\n",
    "\n",
    "    # Copy the remaining elements of left[], if any\n",
    "    while indexOfSubArrayOne < subArrayOne:\n",
    "        array[indexOfMergedArray] = leftArray[indexOfSubArrayOne]\n",
    "        indexOfSubArrayOne += 1\n",
    "        indexOfMergedArray += 1\n",
    "\n",
    "    # Copy the remaining elements of right[], if any\n",
    "    while indexOfSubArrayTwo < subArrayTwo:\n",
    "        array[indexOfMergedArray] = rightArray[indexOfSubArrayTwo]\n",
    "        indexOfSubArrayTwo += 1\n",
    "        indexOfMergedArray += 1\n",
    "\n",
    "# begin is for left index and end is right index\n",
    "# of the sub-array of arr to be sorted\n",
    "def mergeSort(array, begin, end):\n",
    "    if begin >= end:\n",
    "        return\n",
    "\n",
    "    mid = begin + (end - begin) // 2\n",
    "    mergeSort(array, begin, mid)\n",
    "    mergeSort(array, mid + 1, end)\n",
    "    print (array)\n",
    "    merge(array, begin, mid, end)\n",
    "\n",
    "# Function to print an array\n",
    "def printArray(array, size):\n",
    "    for i in range(size):\n",
    "        print(array[i], end=\" \")\n",
    "    print()\n",
    "\n",
    "# Driver code\n",
    "if __name__ == \"__main__\":\n",
    "    arr = [12, 11, 13, 5, 6, 7]\n",
    "    arr_size = len(arr)\n",
    "\n",
    "    print(\"Given array is\")\n",
    "    printArray(arr, arr_size)\n",
    "\n",
    "    mergeSort(arr, 0, arr_size - 1)\n",
    "\n",
    "    print(\"\\nSorted array is\")\n",
    "    printArray(arr, arr_size)\n"
   ]
  },
  {
   "cell_type": "markdown",
   "metadata": {},
   "source": [
    "Given a stack of integers, write a pseudo code for external method that sorts the stack in ascending order, so that the smallest element appears on top of the stack. You can use the methods pop, top, push, and size as already implemented methods. Let n be the size of array and arrStack is the final stack output after executing the pseudo code."
   ]
  },
  {
   "cell_type": "code",
   "execution_count": 9,
   "metadata": {},
   "outputs": [
    {
     "data": {
      "text/plain": [
       "[1, 3, 5, 6, 23, 31, 34, 34, 78, 92, 98, 122]"
      ]
     },
     "execution_count": 9,
     "metadata": {},
     "output_type": "execute_result"
    }
   ],
   "source": [
    "# Create an empty stack\n",
    "def createStack():\n",
    "    return list([])\n",
    "\n",
    "    # Check if the stack is empty\n",
    "def isEmpty(stack):\n",
    "    return len(stack) == 0\n",
    "\n",
    "    # Pop the top element from the stack\n",
    "def pop(stack):\n",
    "    if not isEmpty(stack):\n",
    "        return stack.pop()\n",
    "\n",
    "    # Get the top element of the stack without removing it\n",
    "def top(stack):\n",
    "    if not isEmpty(stack):\n",
    "        return stack[-1]\n",
    "\n",
    "    # Push an element onto the stack\n",
    "def push(stack, item):\n",
    "    stack.append(item)\n",
    "    \n",
    "def sortStack(stack):\n",
    "    # Create a temporary stack\n",
    "    tempStack = createStack()\n",
    "\n",
    "    while not isEmpty(stack):\n",
    "        # Pop the top element from the original stack\n",
    "        temp = pop(stack)\n",
    "\n",
    "        # While the temporary stack is not empty and the top element is greater than temp,\n",
    "        # pop elements from the temporary stack and push them to the original stack\n",
    "        while not isEmpty(tempStack) and top(tempStack) > temp:\n",
    "            push(stack, pop(tempStack))\n",
    "\n",
    "        # Push temp to the temporary stack\n",
    "        push(tempStack, temp)\n",
    "\n",
    "    # The sorted stack is stored in the temporary stack\n",
    "    return tempStack\n",
    "\n",
    "sortStack([34, 3, 31, 1,122,34,5,6,78,98, 92, 23])"
   ]
  }
 ],
 "metadata": {
  "kernelspec": {
   "display_name": "tf",
   "language": "python",
   "name": "python3"
  },
  "language_info": {
   "codemirror_mode": {
    "name": "ipython",
    "version": 3
   },
   "file_extension": ".py",
   "mimetype": "text/x-python",
   "name": "python",
   "nbconvert_exporter": "python",
   "pygments_lexer": "ipython3",
   "version": "3.9.18"
  }
 },
 "nbformat": 4,
 "nbformat_minor": 2
}
