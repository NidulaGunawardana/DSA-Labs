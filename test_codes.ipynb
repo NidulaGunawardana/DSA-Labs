{
 "cells": [
  {
   "cell_type": "markdown",
   "metadata": {},
   "source": [
    "### Merge Sort implementaion"
   ]
  },
  {
   "cell_type": "code",
   "execution_count": 2,
   "metadata": {},
   "outputs": [
    {
     "name": "stdout",
     "output_type": "stream",
     "text": [
      "Given array is\n",
      "12 11 13 5 6 7 \n",
      "[12, 11, 13, 5, 6, 7]\n",
      "[11, 12, 13, 5, 6, 7]\n",
      "[11, 12, 13, 5, 6, 7]\n",
      "[11, 12, 13, 5, 6, 7]\n",
      "[11, 12, 13, 5, 6, 7]\n",
      "\n",
      "Sorted array is\n",
      "5 6 7 11 12 13 \n"
     ]
    }
   ],
   "source": [
    "# Merges two subarrays of array[].\n",
    "# First subarray is arr[left..mid]\n",
    "# Second subarray is arr[mid+1..right]\n",
    "def merge(array, left, mid, right):\n",
    "    subArrayOne = mid - left + 1\n",
    "    subArrayTwo = right - mid\n",
    "\n",
    "    # Create temp arrays\n",
    "    leftArray = [0] * subArrayOne\n",
    "    rightArray = [0] * subArrayTwo\n",
    "\n",
    "    # Copy data to temp arrays leftArray[] and rightArray[]\n",
    "    for i in range(subArrayOne):\n",
    "        leftArray[i] = array[left + i]\n",
    "    for j in range(subArrayTwo):\n",
    "        rightArray[j] = array[mid + 1 + j]\n",
    "\n",
    "    indexOfSubArrayOne = 0  # Initial index of first sub-array\n",
    "    indexOfSubArrayTwo = 0  # Initial index of second sub-array\n",
    "    indexOfMergedArray = left  # Initial index of merged array\n",
    "\n",
    "    # Merge the temp arrays back into array[left..right]\n",
    "    while indexOfSubArrayOne < subArrayOne and indexOfSubArrayTwo < subArrayTwo:\n",
    "        if leftArray[indexOfSubArrayOne] <= rightArray[indexOfSubArrayTwo]:\n",
    "            array[indexOfMergedArray] = leftArray[indexOfSubArrayOne]\n",
    "            indexOfSubArrayOne += 1\n",
    "        else:\n",
    "            array[indexOfMergedArray] = rightArray[indexOfSubArrayTwo]\n",
    "            indexOfSubArrayTwo += 1\n",
    "        indexOfMergedArray += 1\n",
    "\n",
    "    # Copy the remaining elements of left[], if any\n",
    "    while indexOfSubArrayOne < subArrayOne:\n",
    "        array[indexOfMergedArray] = leftArray[indexOfSubArrayOne]\n",
    "        indexOfSubArrayOne += 1\n",
    "        indexOfMergedArray += 1\n",
    "\n",
    "    # Copy the remaining elements of right[], if any\n",
    "    while indexOfSubArrayTwo < subArrayTwo:\n",
    "        array[indexOfMergedArray] = rightArray[indexOfSubArrayTwo]\n",
    "        indexOfSubArrayTwo += 1\n",
    "        indexOfMergedArray += 1\n",
    "\n",
    "# begin is for left index and end is right index\n",
    "# of the sub-array of arr to be sorted\n",
    "def mergeSort(array, begin, end):\n",
    "    if begin >= end:\n",
    "        return\n",
    "\n",
    "    mid = begin + (end - begin) // 2\n",
    "    mergeSort(array, begin, mid)\n",
    "    mergeSort(array, mid + 1, end)\n",
    "    print (array)\n",
    "    merge(array, begin, mid, end)\n",
    "\n",
    "# Function to print an array\n",
    "def printArray(array, size):\n",
    "    for i in range(size):\n",
    "        print(array[i], end=\" \")\n",
    "    print()\n",
    "\n",
    "# Driver code\n",
    "if __name__ == \"__main__\":\n",
    "    arr = [12, 11, 13, 5, 6, 7]\n",
    "    arr_size = len(arr)\n",
    "\n",
    "    print(\"Given array is\")\n",
    "    printArray(arr, arr_size)\n",
    "\n",
    "    mergeSort(arr, 0, arr_size - 1)\n",
    "\n",
    "    print(\"\\nSorted array is\")\n",
    "    printArray(arr, arr_size)\n"
   ]
  }
 ],
 "metadata": {
  "kernelspec": {
   "display_name": "tf",
   "language": "python",
   "name": "python3"
  },
  "language_info": {
   "codemirror_mode": {
    "name": "ipython",
    "version": 3
   },
   "file_extension": ".py",
   "mimetype": "text/x-python",
   "name": "python",
   "nbconvert_exporter": "python",
   "pygments_lexer": "ipython3",
   "version": "3.9.18"
  }
 },
 "nbformat": 4,
 "nbformat_minor": 2
}
